{
 "cells": [
  {
   "cell_type": "markdown",
   "metadata": {},
   "source": [
    "## 練習時間\n",
    "#### 請寫一個函式用來計算 Mean Square Error\n",
    "$ MSE = \\frac{1}{n}\\sum_{i=1}^{n}{(Y_i - \\hat{Y}_i)^2} $\n",
    "\n",
    "### Hint: [如何取平方](https://googoodesign.gitbooks.io/-ezpython/unit-1.html)"
   ]
  },
  {
   "cell_type": "markdown",
   "metadata": {},
   "source": [
    "# [作業目標]\n",
    "- 仿造範例的MAE函數, 自己寫一個MSE函數(參考上面公式)"
   ]
  },
  {
   "cell_type": "markdown",
   "metadata": {},
   "source": [
    "# [作業重點]\n",
    "- 注意程式的縮排\n",
    "- 是否能將數學公式, 轉換為 Python 的函式組合? (In[2], Out[2])"
   ]
  },
  {
   "cell_type": "code",
   "execution_count": 13,
   "metadata": {},
   "outputs": [],
   "source": [
    "# 載入基礎套件與代稱\n",
    "import numpy as np\n",
    "import matplotlib.pyplot as plt\n",
    "import math\n"
   ]
  },
  {
   "cell_type": "code",
   "execution_count": 14,
   "metadata": {},
   "outputs": [],
   "source": [
    "def mean_absolute_error(y, yp):\n",
    "    \"\"\"\n",
    "    計算 MAE\n",
    "    Args:\n",
    "        - y: 實際值\n",
    "        - yp: 預測值\n",
    "    Return:\n",
    "        - mae: MAE\n",
    "    \"\"\"\n",
    "    mae = MAE = sum(abs(y - yp)) / len(y)\n",
    "    return mae\n",
    "\n",
    "# 定義 mean_squared_error 這個函數, 計算並傳回 MSE\n",
    "def mean_squared_error(y, yp):\n",
    "    \"\"\"\n",
    "    請完成這個 Function 後往下執行\n",
    "    \"\"\"\n",
    "    mse = MSE = sum((y - yp)**2) / len(y) \n",
    "    return mse "
   ]
  },
  {
   "cell_type": "code",
   "execution_count": 15,
   "metadata": {},
   "outputs": [
    {
     "data": {
      "image/png": "[encoded data removed]",
      "text/plain": [
       "<Figure size 432x288 with 1 Axes>"
      ]
     },
     "metadata": {
      "needs_background": "light"
     },
     "output_type": "display_data"
    }
   ],
   "source": [
    "# 與範例相同, 不另外解說\n",
    "w = 3\n",
    "b = 0.5\n",
    "x_lin = np.linspace(0, 100, 101)\n",
    "y = (x_lin + np.random.randn(101) * 5) * w + b\n",
    "plt.plot(x_lin, y , 'b.' , label = 'data_point' )\n",
    "plt.title(\"Assume we have data points\")\n",
    "plt.legend(loc = 2)\n",
    "plt.show()\n"
   ]
  },
  {
   "cell_type": "code",
   "execution_count": 16,
   "metadata": {
    "scrolled": false
   },
   "outputs": [
    {
     "data": {
      "image/png": "[encoded data removed]",
      "text/plain": [
       "<Figure size 432x288 with 1 Axes>"
      ]
     },
     "metadata": {
      "needs_background": "light"
     },
     "output_type": "display_data"
    }
   ],
   "source": [
    "# 與範例相同, 不另外解說\n",
    "y_hat = x_lin * w + b\n",
    "\n",
    "plt.plot(x_lin , y , 'b.' , label = 'data')\n",
    "plt.plot(x_lin , y_hat , 'r-' , label = 'prediction')\n",
    "\n",
    "plt.title(\"Assume we have data points+prediction\")\n",
    "plt.legend(loc = 2)\n",
    "plt.show()"
   ]
  },
  {
   "cell_type": "code",
   "execution_count": 18,
   "metadata": {},
   "outputs": [
    {
     "name": "stdout",
     "output_type": "stream",
     "text": [
      "mean_absolute_error is 12.330\n",
      "mean_squared_error is 221.771\n"
     ]
    }
   ],
   "source": [
    "# 執行 Function, 確認有沒有正常執行\n",
    "MAE = mean_absolute_error(y, y_hat)\n",
    "MSE = mean_squared_error(y, y_hat)\n",
    "\n",
    "print(\"mean_absolute_error is %.3f\" %(MAE))\n",
    "print(\"mean_squared_error is %.3f\" %(MSE))"
   ]
  },
  {
   "cell_type": "markdown",
   "metadata": {},
   "source": [
    "# [作業2]\n",
    "\n",
    "請上 Kaggle, 在 Competitions 或 Dataset 中找一組競賽或資料並寫下：\n",
    "\n",
    "Dataset:https://www.kaggle.com/AnalyzeBoston/crimes-in-boston\n",
    "\n",
    "1. 你選的這組資料為何重要\n",
    "\n",
    " 由於犯罪在生活中會威脅到自我的人身安全，需要有效地去預防以及防治犯罪，達到社會福祉和人民的安全。\n",
    "\n",
    "2. 資料從何而來 (tips: 譬如提供者是誰、以什麼方式蒐集)\n",
    "\n",
    " 波士頓警察局（BPD）提供犯罪事件報告，記錄BPD官員回應事件的初步細節。\n",
    "\n",
    "3. 蒐集而來的資料型態為何\n",
    "\n",
    " 資料型態以csv檔為主。\n",
    "\n",
    "4. 這組資料想解決的問題如何評估\n",
    "\n",
    " 藉由這組資料，可以去探討:\n",
    " 1.什麼類型的犯罪最常見?\n",
    " 2.哪種不同類型的犯罪最有可能發生？\n",
    " 3.犯罪頻率是否在一天內發生變化，甚至是週或年？\n",
    "\n",
    "# [作業3]\n",
    "\n",
    "想像你經營一個自由載客車隊，你希望能透過數據分析以提升業績，請你思考並描述你如何規劃整體的分析/解決方案：\n",
    "\n",
    "1. 核心問題為何 (tips：如何定義 「提升業績 & 你的假設」)\n",
    "\n",
    " 1.規劃出最佳的交通路線\n",
    " 2.了解較多客人叫車地點與時段\n",
    " 3.叫車客人的族群和年齡層，都是可以來探討如何提升業績的核心問題。\n",
    " 4.天氣影響載客率。\n",
    "\n",
    "2. 資料從何而來 (tips：哪些資料可能會對你想問的問題產生影響 & 資料如何蒐集)\n",
    "\n",
    " 1.藉由google map中的即時道路壅塞數據以及交通部即時道路監控數據，來統計每日時段的道路狀況。\n",
    " 2.藉由司機每日載客紀錄，以及客人叫車的紀錄。\n",
    " 3.藉由每次承載客人結束後，拜託客人填寫簡單的意見回饋單來統計資料。\n",
    " 4.藉由氣象局來收集每日任何時刻的天氣狀況。\n",
    "\n",
    "3. 蒐集而來的資料型態為何\n",
    "\n",
    " 資料性結構以及非資料性結構。\n",
    "\n",
    "4. 你要回答的問題，其如何評估 (tips：你的假設如何驗證)\n",
    "\n",
    " 透過機器學習中的迴歸分析來找出自己的假設與提升業績和薪水的相關性，並且提取特徵來訓練，以及驗證和測試。\n"
   ]
  },
  {
   "cell_type": "code",
   "execution_count": null,
   "metadata": {},
   "outputs": [],
   "source": []
  }
 ],
 "metadata": {
  "anaconda-cloud": {},
  "kernelspec": {
   "display_name": "Python 3",
   "language": "python",
   "name": "python3"
  },
  "language_info": {
   "codemirror_mode": {
    "name": "ipython",
    "version": 3
   },
   "file_extension": ".py",
   "mimetype": "text/x-python",
   "name": "python",
   "nbconvert_exporter": "python",
   "pygments_lexer": "ipython3",
   "version": "3.7.3"
  }
 },
 "nbformat": 4,
 "nbformat_minor": 1
}
